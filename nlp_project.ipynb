{
 "cells": [
  {
   "cell_type": "markdown",
   "metadata": {},
   "source": [
    "# Deep Learning for NLP - Project"
   ]
  },
  {
   "cell_type": "markdown",
   "metadata": {},
   "source": [
    "RULES:\n",
    "\n",
    "* Do not create any additional cell\n",
    "\n",
    "* Fill in the blanks\n",
    "\n",
    "* All cells should be runnable (modulo trivial compatibility bugs that we'd fix)\n",
    "\n",
    "* 4 / 20 points will be allocated to the clarity of your code\n",
    "\n",
    "* Efficient code will have a bonus\n",
    "\n",
    "DELIVERABLE:\n",
    "\n",
    "* this notebook\n",
    "* the predictions of the SST test set\n",
    "\n",
    "DO NOT INCLUDE THE DATASETS IN THE DELIVERABLE.."
   ]
  },
  {
   "cell_type": "code",
   "execution_count": 1,
   "metadata": {},
   "outputs": [],
   "source": [
    "import io\n",
    "import os\n",
    "import numpy as np\n",
    "import scipy"
   ]
  },
  {
   "cell_type": "code",
   "execution_count": 2,
   "metadata": {},
   "outputs": [],
   "source": [
    "PATH_TO_DATA = \"data/\""
   ]
  },
  {
   "cell_type": "markdown",
   "metadata": {},
   "source": [
    "# 1) Monolingual (English) word embeddings "
   ]
  },
  {
   "cell_type": "code",
   "execution_count": 3,
   "metadata": {},
   "outputs": [],
   "source": [
    "class Word2vec():\n",
    "    def __init__(self, fname, nmax=100000):\n",
    "        self.load_wordvec(fname, nmax)\n",
    "        self.word2id = dict.fromkeys(self.word2vec.keys())\n",
    "        self.id2word = {v: k for k, v in self.word2id.items()}\n",
    "        self.embeddings = np.array(self.word2vec.values())\n",
    "    \n",
    "    def load_wordvec(self, fname, nmax):\n",
    "        self.word2vec = {}\n",
    "        with io.open(fname, encoding='utf-8') as f:\n",
    "            next(f)\n",
    "            for i, line in enumerate(f):\n",
    "                word, vec = line.split(' ', 1)\n",
    "                self.word2vec[word] = np.fromstring(vec, sep=' ')\n",
    "                if i == (nmax - 1):\n",
    "                    break\n",
    "        print('Loaded %s pretrained word vectors' % (len(self.word2vec)))\n",
    "\n",
    "    def most_similar(self, w, K=5):\n",
    "        keys_word = list(self.word2vec.keys())\n",
    "        scores_data = np.zeros(len(keys_word))\n",
    "        \n",
    "        for ind, word in enumerate(keys_word):\n",
    "            scores_data[ind] = self.score(w, word)\n",
    "            \n",
    "        inds_words = np.argsort(scores_data)[-K:]\n",
    "        words_close = np.array(keys_word)[inds_words]\n",
    "        # K most similar words: self.score  -  np.argsort \n",
    "        return(words_close)\n",
    "\n",
    "    def score(self, w1, w2):\n",
    "        vec1 = self.word2vec[w1]\n",
    "        vec2 = self.word2vec[w2]\n",
    "        \n",
    "        score_cosine = vec1.dot(vec2)/(np.linalg.norm(vec1)*np.linalg.norm(vec2))\n",
    "        # cosine similarity: np.dot  -  np.linalg.norm\n",
    "        return(score_cosine)\n"
   ]
  },
  {
   "cell_type": "code",
   "execution_count": 4,
   "metadata": {},
   "outputs": [
    {
     "name": "stdout",
     "output_type": "stream",
     "text": [
      "Loaded 200000 pretrained word vectors\n",
      "cat dog 0.671683666279249\n",
      "dog pet 0.684206402966922\n",
      "dogs cats 0.7074389328052404\n",
      "paris france 0.7775108541288563\n",
      "germany berlin 0.7420295235998394\n",
      "['feline' 'kitten' 'kitty' 'cats' 'cat']\n",
      "['doggie' 'Dog' 'puppy' 'dogs' 'dog']\n",
      "['doggies' 'Dogs' 'pooches' 'dog' 'dogs']\n",
      "['london' 'parisian' 'Paris' 'france' 'paris']\n",
      "['berlin' 'german' 'europe' 'austria' 'germany']\n"
     ]
    }
   ],
   "source": [
    "w2v = Word2vec(os.path.join(PATH_TO_DATA, 'crawl-300d-200k.vec'), nmax=200000)\n",
    "\n",
    "# You will be evaluated on the output of the following:\n",
    "for w1, w2 in zip(('cat', 'dog', 'dogs', 'paris', 'germany'), ('dog', 'pet', 'cats', 'france', 'berlin')):\n",
    "    print(w1, w2, w2v.score(w1, w2))\n",
    "for w1 in ['cat', 'dog', 'dogs', 'paris', 'germany']:\n",
    "    print(w2v.most_similar(w1))"
   ]
  },
  {
   "cell_type": "code",
   "execution_count": 5,
   "metadata": {},
   "outputs": [],
   "source": [
    "class BoV():\n",
    "    def __init__(self, w2v):\n",
    "        self.w2v = w2v\n",
    "    \n",
    "    def encode(self, sentences, idf=False):\n",
    "        # takes a list of sentences, outputs a numpy array of sentence embeddings\n",
    "        # see TP1 for help\n",
    "        sentemb = []\n",
    "        for sent in sentences:\n",
    "            if idf is False:\n",
    "                vect = []\n",
    "                for ind, w in enumerate(sent):\n",
    "                    try:\n",
    "                        vect.append(self.w2v.word2vec[w])\n",
    "                    except:\n",
    "                        #print(\"not in the dataset : \" + w)\n",
    "                        pass\n",
    "                vect = np.vstack(vect)\n",
    "                sentemb.append(np.mean(vect, axis = 0))\n",
    "                # mean of word vectors\n",
    "            else:\n",
    "                vect = []\n",
    "                for ind, w in enumerate(sent):\n",
    "                    try:\n",
    "                        vect.append(self.w2v.word2vec[w]*idf[w])\n",
    "                    except:\n",
    "                        #print(\"not in the dataset : \" + w)\n",
    "                        pass\n",
    "                vect = np.vstack(vect)\n",
    "                sentemb.append(np.mean(vect, axis = 0))\n",
    "                # idf-weighted mean of word vectors\n",
    "        return np.vstack(sentemb)\n",
    "\n",
    "    def most_similar(self, s, sentences, idf=False, K=5):\n",
    "        # get most similar sentences and **print** them\n",
    "        keys = self.encode(sentences, idf)\n",
    "        query = self.encode([s], idf)\n",
    "        \n",
    "        scores_data = np.zeros(len(keys))\n",
    "        for ind, sent in enumerate(keys):\n",
    "            scores_data[ind] = self.score(np.array(query), np.array(sent), idf)\n",
    "            \n",
    "        inds_sent = np.argsort(scores_data)[-K:]\n",
    "        sent_close = np.array(sentences)[inds_sent]\n",
    "        print('phrases proches', sent_close)\n",
    "        # K most similar words: self.score  -  np.argsort\n",
    "        return(sent_close)\n",
    "\n",
    "    def score(self, s1, s2, idf=False):\n",
    "        if type(s1) == list:\n",
    "            s1 = np.array(self.encode([s1], idf))\n",
    "            s2 = np.array(self.encode([s2], idf)).transpose()\n",
    "        score_cosine = s1.dot(s2)/(np.linalg.norm(s1)*np.linalg.norm(s2))\n",
    "        # cosine similarity: use   np.dot  and  np.linalg.norm\n",
    "        return(score_cosine)\n",
    "    \n",
    "    def build_idf(self, sentences):\n",
    "        # build the idf dictionary: associate each word to its idf value\n",
    "        idf = {}\n",
    "        for sent in sentences:\n",
    "            for w in set(sent):\n",
    "                idf[w] = idf.get(w, 0) + 1\n",
    "        \n",
    "        for word in idf.keys():\n",
    "            idf[word] = max(1, np.log10(len(sentences) / (idf[word])))\n",
    "            \n",
    "        return(idf)"
   ]
  },
  {
   "cell_type": "code",
   "execution_count": 6,
   "metadata": {
    "scrolled": true
   },
   "outputs": [
    {
     "name": "stdout",
     "output_type": "stream",
     "text": [
      "phrases proches [list(['an', 'african', 'american', 'man', 'is', 'sitting', '.'])\n",
      " list(['an', 'afican', 'american', 'woman', 'standing', 'behind', 'two', 'small', 'african', 'american', 'children', '.'])\n",
      " list(['a', 'little', 'african', 'american', 'boy', 'and', 'girl', 'looking', 'up', '.'])\n",
      " list(['an', 'african', 'american', 'man', 'smiling', '.'])\n",
      " list(['1', 'smiling', 'african', 'american', 'boy', '.'])]\n",
      "[[0.57262589]]\n",
      "phrases proches [list(['an', 'afican', 'american', 'woman', 'standing', 'behind', 'two', 'small', 'african', 'american', 'children', '.'])\n",
      " list(['a', 'little', 'african', 'american', 'boy', 'and', 'girl', 'looking', 'up', '.'])\n",
      " list(['an', 'african', 'american', 'man', 'is', 'sitting', '.'])\n",
      " list(['an', 'african', 'american', 'man', 'smiling', '.'])\n",
      " list(['1', 'smiling', 'african', 'american', 'boy', '.'])]\n",
      "[[0.47514509]]\n"
     ]
    }
   ],
   "source": [
    "#w2v = Word2vec(os.path.join(PATH_TO_DATA, 'crawl-300d-200k.vec'), nmax=100000)\n",
    "s2v = BoV(w2v)\n",
    "\n",
    "# Load sentences in \"PATH_TO_DATA/sentences.txt\"\n",
    "sentences = [] #list of list of words\n",
    "with io.open(os.path.join(PATH_TO_DATA, 'sentences.txt'), encoding='utf-8') as f:\n",
    "        for line in f:\n",
    "            sentences.append(line.split())\n",
    "            \n",
    "# Build idf scores for each word\n",
    "s2v.build_idf(sentences)\n",
    "idf = {} if True else s2v.build_idf(sentences)\n",
    "\n",
    "# You will be evaluated on the output of the following:\n",
    "s2v.most_similar('' if not sentences else sentences[10], sentences)  # BoV-mean\n",
    "print(s2v.score('' if not sentences else sentences[7], '' if not sentences else sentences[13]))\n",
    "\n",
    "\n",
    "idf = s2v.build_idf(sentences)\n",
    "s2v.most_similar('' if not sentences else sentences[10], sentences, idf)  # BoV-idf\n",
    "print(s2v.score('' if not sentences else sentences[7], '' if not sentences else sentences[13], idf))"
   ]
  },
  {
   "cell_type": "markdown",
   "metadata": {},
   "source": [
    "# 2) Multilingual (English-French) word embeddings"
   ]
  },
  {
   "cell_type": "markdown",
   "metadata": {},
   "source": [
    "Let's consider a bilingual dictionary of size V_a (e.g French-English).\n",
    "\n",
    "Let's define **X** and **Y** the **French** and **English** matrices.\n",
    "\n",
    "They contain the embeddings associated to the words in the bilingual dictionary.\n",
    "\n",
    "We want to find a **mapping W** that will project the source word space (e.g French) to the target word space (e.g English).\n",
    "\n",
    "Procrustes : **W\\* = argmin || W.X - Y ||  s.t  W^T.W = Id**\n",
    "has a closed form solution:\n",
    "**W = U.V^T  where  U.Sig.V^T = SVD(Y.X^T)**\n",
    "\n",
    "In what follows, you are asked to: "
   ]
  },
  {
   "cell_type": "code",
   "execution_count": 7,
   "metadata": {},
   "outputs": [
    {
     "name": "stdout",
     "output_type": "stream",
     "text": [
      "Loaded 100000 pretrained word vectors\n",
      "Loaded 100000 pretrained word vectors\n"
     ]
    }
   ],
   "source": [
    "# 1 - Download and load 50k first vectors of\n",
    "#     https://s3-us-west-1.amazonaws.com/fasttext-vectors/wiki.en.vec\n",
    "#     https://s3-us-west-1.amazonaws.com/fasttext-vectors/wiki.fr.vec\n",
    "\n",
    "# TYPE CODE HERE\n",
    "\n",
    "def load_wordvec(fname, nmax):\n",
    "        word2vec = {}\n",
    "        with io.open(fname, encoding='utf-8') as f:\n",
    "            next(f)\n",
    "            for i, line in enumerate(f):\n",
    "                word, vec = line.split(' ', 1)\n",
    "                word2vec[word] = np.fromstring(vec, sep=' ')\n",
    "                if i == (nmax - 1):\n",
    "                    break\n",
    "        print('Loaded %s pretrained word vectors' % (len(word2vec)))\n",
    "        return(word2vec)\n",
    "        \n",
    "french_vec = os.path.join(PATH_TO_DATA, 'wiki.fr.vec')\n",
    "engl_vec = os.path.join(PATH_TO_DATA, 'wiki.en.vec')\n",
    "d = 300\n",
    "nmax = 100000\n",
    "french_w2v = load_wordvec(french_vec, nmax)\n",
    "engl_w2v = load_wordvec(engl_vec, nmax)"
   ]
  },
  {
   "cell_type": "code",
   "execution_count": 8,
   "metadata": {},
   "outputs": [],
   "source": [
    "# 2 - Get words that appear in both vocabs (= identical character strings)\n",
    "#     Use it to create the matrix X and Y (of aligned embeddings for these words)\n",
    "\n",
    "# TYPE CODE HERE\n",
    "def intersection_linear_complex(lst1, lst2): \n",
    "    temp = set(lst2) \n",
    "    lst3 = [value for value in lst1 if value in temp] \n",
    "    return(lst3)\n",
    "\n",
    "french_words = [*french_w2v.keys()]\n",
    "english_words = [*engl_w2v.keys()]\n",
    "\n",
    "common_words = intersection_linear_complex(french_words, english_words)\n",
    "\n",
    "french_common = np.zeros((d, len(common_words)))\n",
    "english_common = np.zeros((d, len(common_words)))\n",
    "for ind, word in enumerate(common_words):\n",
    "    french_common[:,ind] = french_w2v[word]\n",
    "    english_common[:,ind] = engl_w2v[word]\n",
    "    \n",
    "french = np.zeros((d, len(french_words)))\n",
    "english = np.zeros((d, len(english_words)))\n",
    "ind_to_french = {}\n",
    "ind_to_english = {}\n",
    "for ind, word in enumerate(french_words):\n",
    "    french[:,ind] = french_w2v[word]\n",
    "    ind_to_french[ind] = word\n",
    "for ind, word in enumerate(english_words): \n",
    "    english[:,ind] = engl_w2v[word]\n",
    "    ind_to_english[ind] = word\n",
    "    "
   ]
  },
  {
   "cell_type": "code",
   "execution_count": 9,
   "metadata": {},
   "outputs": [],
   "source": [
    "# 3 - Solve the Procrustes using the scipy package and: scipy.linalg.svd() and get the optimal W\n",
    "#     Now W*French_vector is in the same space as English_vector\n",
    "\n",
    "# TYPE CODE HERE\n",
    "import scipy.linalg\n",
    "U, s, Vh = scipy.linalg.svd(english_common.dot(french_common.transpose()), full_matrices=False)\n",
    "\n",
    "W_opt = U.dot(Vh)\n"
   ]
  },
  {
   "cell_type": "code",
   "execution_count": 10,
   "metadata": {},
   "outputs": [
    {
     "name": "stdout",
     "output_type": "stream",
     "text": [
      "English to French\n",
      "doctor : docteur\n",
      "she : elle\n",
      "why : pourquoi\n",
      "london : londres\n",
      "friend : ami\n",
      "friends : amis\n",
      "\n",
      "Français à l'anglais\n",
      "ici : here\n",
      "amis : friends\n",
      "mais : but\n",
      "crayon : pencil\n",
      "aide : help\n",
      "sanctuaire : shrine\n"
     ]
    }
   ],
   "source": [
    "# 4 - After alignment with W, give examples of English nearest neighbors of some French words (and vice versa)\n",
    "#     You will be evaluated on that part and the code above\n",
    "\n",
    "# TYPE CODE HERE\n",
    "from scipy import spatial\n",
    "\n",
    "english_hat = W_opt.dot(french)\n",
    "french_hat = (W_opt.transpose()).dot(english)\n",
    "words_french = ['ici', 'amis', 'mais', 'crayon', 'aide', 'sanctuaire']\n",
    "words_english = ['doctor', 'she', 'why', 'london','friend','friends']\n",
    "\n",
    "print(\"English to French\")\n",
    "for word in words_english:\n",
    "    dist_english_hat = scipy.spatial.distance_matrix(english_hat.transpose(), engl_w2v[word].reshape((1,-1)))\n",
    "    word_closest = np.argmin(dist_english_hat)\n",
    "    print(word + \" : \" + ind_to_french[word_closest])\n",
    "\n",
    "print(\"\")\n",
    "print(\"Français à l'anglais\")\n",
    "for word in words_french:\n",
    "    dist_french_hat = scipy.spatial.distance_matrix(french_hat.transpose(), french_w2v[word].reshape((1,-1)))\n",
    "    word_closest = np.argmin(dist_french_hat)\n",
    "    print(word + \" : \" + ind_to_english[word_closest])\n",
    "    "
   ]
  },
  {
   "cell_type": "markdown",
   "metadata": {},
   "source": [
    "If you want to dive deeper on this subject: https://github.com/facebookresearch/MUSE"
   ]
  },
  {
   "cell_type": "markdown",
   "metadata": {},
   "source": [
    "# 3) Sentence classification with BoV and scikit-learn"
   ]
  },
  {
   "cell_type": "code",
   "execution_count": 7,
   "metadata": {},
   "outputs": [
    {
     "name": "stdout",
     "output_type": "stream",
     "text": [
      "Loaded %s pretrained word vectors : 8544 = 8544\n",
      "Loaded %s pretrained word vectors : 1101 = 1101\n",
      "Loaded %s pretrained word vectors : 2210 = 1\n"
     ]
    }
   ],
   "source": [
    "# 1 - Load train/dev/test of Stanford Sentiment TreeBank (SST)\n",
    "#     (https://nlp.stanford.edu/~socherr/EMNLP2013_RNTN.pdf)\n",
    "\n",
    "def load_sentences(fname):\n",
    "        Bov_nb = []\n",
    "        Bov_sent = []\n",
    "        with io.open(fname, encoding='utf-8') as f:\n",
    "            for i, line in enumerate(f):\n",
    "                words = line.split(' ')\n",
    "                words[-1] = words[-1].strip()\n",
    "                if words[0].isdigit():\n",
    "                    Bov_nb.append(words[0])\n",
    "                    Bov_sent.append(words[1:])\n",
    "                else:\n",
    "                    Bov_sent.append(words)\n",
    "        print('Loaded %s pretrained word vectors : ' + str(len(Bov_sent)) + \" = \" + str(len(Bov_nb)))\n",
    "        return(Bov_nb, Bov_sent)\n",
    "    \n",
    "train_BoV_file = os.path.join(PATH_TO_DATA, 'SST', 'stsa.fine.train')\n",
    "dev_BoV_file = os.path.join(PATH_TO_DATA, 'SST', 'stsa.fine.dev')\n",
    "test_BoV_file = os.path.join(PATH_TO_DATA, 'SST', 'stsa.fine.test.X')\n",
    "\n",
    "train_sentences_list = load_sentences(train_BoV_file)\n",
    "dev_sentences_list = load_sentences(dev_BoV_file)\n",
    "test_sentences_list = load_sentences(test_BoV_file)\n"
   ]
  },
  {
   "cell_type": "code",
   "execution_count": 8,
   "metadata": {},
   "outputs": [
    {
     "name": "stdout",
     "output_type": "stream",
     "text": [
      "Training shape : (8544, 300) and (8544,)\n",
      "Dev shape : (1101, 300) and (1101,)\n"
     ]
    }
   ],
   "source": [
    "# 2 - Encode sentences with the BoV model above\n",
    "\n",
    "use_idf = False\n",
    "\n",
    "if use_idf:\n",
    "    idf_train = s2v.build_idf(train_sentences_list[1])\n",
    "    idf_dev = s2v.build_idf(dev_sentences_list[1])\n",
    "else:\n",
    "    idf_train = False\n",
    "    idf_dev = False\n",
    "    \n",
    "sentences_train_array = s2v.encode(train_sentences_list[1], idf_train)\n",
    "nb_train_array = np.array(train_sentences_list[0]).astype(int)\n",
    "print(\"Training shape : \" + str(sentences_train_array.shape) + \" and \" + str(nb_train_array.shape))\n",
    "\n",
    "\n",
    "sentences_dev_array = s2v.encode(dev_sentences_list[1], idf_dev)\n",
    "nb_dev_array = np.array(dev_sentences_list[0]).astype(int)\n",
    "print(\"Dev shape : \" + str(sentences_dev_array.shape) + \" and \" + str(nb_dev_array.shape))\n",
    "\n",
    "sentences_test_array = s2v.encode(test_sentences_list[1])\n"
   ]
  },
  {
   "cell_type": "code",
   "execution_count": 14,
   "metadata": {},
   "outputs": [
    {
     "name": "stdout",
     "output_type": "stream",
     "text": [
      "Train score : 0.49122191011235955\n",
      "Dev score : 0.4396003633060854\n"
     ]
    }
   ],
   "source": [
    "# 3 - Learn Logistic Regression on top of sentence embeddings using scikit-learn\n",
    "#     (consider tuning the L2 regularization on the dev set)\n",
    "\n",
    "from sklearn.linear_model import LogisticRegression\n",
    "\n",
    "clf = LogisticRegression().fit(sentences_train_array, nb_train_array)\n",
    "\n",
    "print(\"Train score : \" + str(clf.score(sentences_train_array, nb_train_array)))\n",
    "print(\"Dev score : \" + str(clf.score(sentences_dev_array, nb_dev_array)))\n"
   ]
  },
  {
   "cell_type": "code",
   "execution_count": null,
   "metadata": {},
   "outputs": [],
   "source": [
    "import sklearn.metrics\n",
    "sklearn.metrics.confusion_matrix(nb_train_array, clf.predict(sentences_train_array))"
   ]
  },
  {
   "cell_type": "code",
   "execution_count": 16,
   "metadata": {},
   "outputs": [],
   "source": [
    "# 4 - Produce 2210 predictions for the test set (in the same order). One line = one prediction (=0,1,2,3,4).\n",
    "#     Attach the output file \"logreg_bov_y_test_sst.txt\" to your deliverable.\n",
    "#     You will be evaluated on the results of the test set.\n",
    "\n",
    "with open('logreg_bov_y_test_sst.txt', 'w') as f:\n",
    "    prediction = clf.predict(sentences_test_array)\n",
    "    for item in prediction.tolist():\n",
    "        f.write(\"%s\\n\" % item)"
   ]
  },
  {
   "cell_type": "code",
   "execution_count": null,
   "metadata": {},
   "outputs": [],
   "source": [
    "# BONUS!\n",
    "# 5 - Try to improve performance with another classifier\n",
    "#     Attach the output file \"XXX_bov_y_test_sst.txt\" to your deliverable (where XXX = the name of the classifier)\n",
    "\n",
    "# TYPE CODE HERE"
   ]
  },
  {
   "cell_type": "markdown",
   "metadata": {},
   "source": [
    "# 4) Sentence classification with LSTMs in Keras"
   ]
  },
  {
   "cell_type": "markdown",
   "metadata": {},
   "source": [
    "## 4.1 - Preprocessing"
   ]
  },
  {
   "cell_type": "code",
   "execution_count": 17,
   "metadata": {},
   "outputs": [
    {
     "name": "stderr",
     "output_type": "stream",
     "text": [
      "C:\\Users\\anatole parre\\Anaconda3\\lib\\site-packages\\h5py\\__init__.py:36: FutureWarning: Conversion of the second argument of issubdtype from `float` to `np.floating` is deprecated. In future, it will be treated as `np.float64 == np.dtype(float).type`.\n",
      "  from ._conv import register_converters as _register_converters\n",
      "Using TensorFlow backend.\n"
     ]
    }
   ],
   "source": [
    "import keras"
   ]
  },
  {
   "cell_type": "code",
   "execution_count": 18,
   "metadata": {},
   "outputs": [
    {
     "name": "stdout",
     "output_type": "stream",
     "text": [
      "Loaded %s pretrained word vectors : 8544 = 8544\n",
      "Loaded %s pretrained word vectors : 1101 = 1101\n",
      "Loaded %s pretrained word vectors : 2210 = 1\n"
     ]
    }
   ],
   "source": [
    "# 1 - Load train/dev/test sets of SST\n",
    "train_BoV_file = os.path.join(PATH_TO_DATA, 'SST', 'stsa.fine.train')\n",
    "dev_BoV_file = os.path.join(PATH_TO_DATA, 'SST', 'stsa.fine.dev')\n",
    "test_BoV_file = os.path.join(PATH_TO_DATA, 'SST', 'stsa.fine.test.X')\n",
    "\n",
    "train_sentences_list = load_sentences(train_BoV_file)\n",
    "dev_sentences_list = load_sentences(dev_BoV_file)\n",
    "test_sentences_list = load_sentences(test_BoV_file)"
   ]
  },
  {
   "cell_type": "code",
   "execution_count": 35,
   "metadata": {},
   "outputs": [
    {
     "name": "stdout",
     "output_type": "stream",
     "text": [
      "Number of different words : 15337\n",
      "Training size : 8544\n",
      "Dev size : 1101\n",
      "Test size : 2210\n"
     ]
    }
   ],
   "source": [
    "# 2 - Transform text to integers using keras.preprocessing.text.one_hot function\n",
    "#     https://keras.io/preprocessing/text/\n",
    "\n",
    "string_sentences_list = ' '.join(str(r) for v in train_sentences_list[1] for r in v)\n",
    "\n",
    "set_words = set(keras.preprocessing.text.text_to_word_sequence(string_sentences_list))\n",
    "train_size = len(set_words)\n",
    "print(\"Number of different words : \" + str(train_size))\n",
    "train_size = 8000\n",
    "\n",
    "def sentences_list_to_int_sentences_list(sentences_list, train_size):\n",
    "    int_sentences_list = []\n",
    "    for v in sentences_list[1]:\n",
    "        string_sent = ' '.join(v)\n",
    "        int_sentences_list.append(keras.preprocessing.text.one_hot(string_sent, train_size, filters=\"#$%&()*+,-./:;<=>?@[\\]^_`{|}~\", lower=True, split=\" \")) #filters=base_filter(), \n",
    "    return(int_sentences_list)\n",
    "\n",
    "int_train_sentences_list = sentences_list_to_int_sentences_list(train_sentences_list, train_size)\n",
    "int_dev_sentences_list = sentences_list_to_int_sentences_list(dev_sentences_list, train_size)\n",
    "int_test_sentences_list = sentences_list_to_int_sentences_list(test_sentences_list, train_size)\n",
    "\n",
    "print(\"Training size : \" + str(len(int_train_sentences_list)))\n",
    "print(\"Dev size : \" + str(len(int_dev_sentences_list)))\n",
    "print(\"Test size : \" + str(len(int_test_sentences_list)))"
   ]
  },
  {
   "cell_type": "markdown",
   "metadata": {},
   "source": [
    "**Padding input data**\n",
    "\n",
    "Models in Keras (and elsewhere) take batches of sentences of the same length as input. It is because Deep Learning framework have been designed to handle well Tensors, which are particularly suited for fast computation on the GPU.\n",
    "\n",
    "Since sentences have different sizes, we \"pad\" them. That is, we add dummy \"padding\" tokens so that they all have the same length.\n",
    "\n",
    "The input to a Keras model thus has this size : (batchsize, maxseqlen) where maxseqlen is the maximum length of a sentence in the batch."
   ]
  },
  {
   "cell_type": "code",
   "execution_count": 36,
   "metadata": {},
   "outputs": [
    {
     "name": "stdout",
     "output_type": "stream",
     "text": [
      "Training size : (8544, 20)\n",
      "Dev size : (1101, 20)\n",
      "Test size : (2210, 20)\n"
     ]
    }
   ],
   "source": [
    "# 3 - Pad your sequences using keras.preprocessing.sequence.pad_sequences\n",
    "#     https://keras.io/preprocessing/sequence/\n",
    "\n",
    "word_embedding_d = 20\n",
    "\n",
    "array_glob_sentences = keras.preprocessing.sequence.pad_sequences(int_train_sentences_list+int_dev_sentences_list+int_test_sentences_list, maxlen=word_embedding_d, dtype='int32')\n",
    "\n",
    "array_train_sentences = array_glob_sentences[:len(int_train_sentences_list)]\n",
    "array_dev_sentences = array_glob_sentences[len(int_train_sentences_list):len(int_train_sentences_list)+len(int_dev_sentences_list)]\n",
    "array_test_sentences = array_glob_sentences[len(int_train_sentences_list)+len(int_dev_sentences_list):]\n",
    "\n",
    "def compute_train_set(sentences_list):\n",
    "    array_nb = np.zeros((len(sentences_list[0]), 5))\n",
    "    for ind, classe in enumerate(sentences_list[0]):\n",
    "        array_nb[ind, int(classe)] = 1\n",
    "    return(array_nb)\n",
    "\n",
    "array_train_nb = compute_train_set(train_sentences_list)\n",
    "array_dev_nb = compute_train_set(dev_sentences_list)\n",
    "\n",
    "print(\"Training size : \" + str(array_train_sentences.shape))\n",
    "print(\"Dev size : \" + str(array_dev_sentences.shape))\n",
    "print(\"Test size : \" + str(array_test_sentences.shape))"
   ]
  },
  {
   "cell_type": "markdown",
   "metadata": {},
   "source": [
    "## 4.2 - Design and train your model"
   ]
  },
  {
   "cell_type": "code",
   "execution_count": 40,
   "metadata": {},
   "outputs": [
    {
     "name": "stderr",
     "output_type": "stream",
     "text": [
      "C:\\Users\\anatole parre\\Anaconda3\\lib\\site-packages\\ipykernel_launcher.py:16: UserWarning: Update your `LSTM` call to the Keras 2 API: `LSTM(20, dropout=0.2, recurrent_dropout=0.2)`\n",
      "  app.launch_new_instance()\n"
     ]
    }
   ],
   "source": [
    "# 4 - Design your encoder + classifier using keras.layers\n",
    "#     In Keras, Torch and other deep learning framework, we create a \"container\" which is the Sequential() module.\n",
    "#     Then we add components to this contained : the lookuptable, the LSTM, the classifier etc.\n",
    "#     All of these components are contained in the Sequential() and are trained together.\n",
    "\n",
    "from keras.models import Sequential\n",
    "from keras.layers import Embedding, LSTM, Dense, Activation\n",
    "\n",
    "embed_dim  = word_embedding_d  # word embedding dimension\n",
    "nhid       = 20  # number of hidden units in the LSTM\n",
    "vocab_size = train_size  # size of the vocabulary\n",
    "n_classes  = 5\n",
    "\n",
    "model = Sequential()\n",
    "model.add(Embedding(vocab_size, embed_dim))\n",
    "model.add(LSTM(nhid, dropout_W=0.2, dropout_U=0.2))\n",
    "model.add(Dense(n_classes, activation='sigmoid'))\n"
   ]
  },
  {
   "cell_type": "code",
   "execution_count": 41,
   "metadata": {},
   "outputs": [
    {
     "name": "stdout",
     "output_type": "stream",
     "text": [
      "_________________________________________________________________\n",
      "Layer (type)                 Output Shape              Param #   \n",
      "=================================================================\n",
      "embedding_5 (Embedding)      (None, None, 20)          160000    \n",
      "_________________________________________________________________\n",
      "lstm_5 (LSTM)                (None, 20)                3280      \n",
      "_________________________________________________________________\n",
      "dense_5 (Dense)              (None, 5)                 105       \n",
      "=================================================================\n",
      "Total params: 163,385\n",
      "Trainable params: 163,385\n",
      "Non-trainable params: 0\n",
      "_________________________________________________________________\n",
      "None\n"
     ]
    }
   ],
   "source": [
    "# 5 - Define your loss/optimizer/metrics\n",
    "\n",
    "# MODIFY CODE BELOW\n",
    "\n",
    "loss_classif     =  'categorical_crossentropy' # find the right loss for multi-class classification\n",
    "optimizer        =  'adam' # find the right optimizer\n",
    "metrics_classif  =  ['accuracy']\n",
    "\n",
    "# Observe how easy (but blackboxed) this is in Keras\n",
    "model.compile(loss=loss_classif,\n",
    "              optimizer=optimizer,\n",
    "              metrics=metrics_classif)\n",
    "print(model.summary())"
   ]
  },
  {
   "cell_type": "code",
   "execution_count": 42,
   "metadata": {},
   "outputs": [
    {
     "name": "stdout",
     "output_type": "stream",
     "text": [
      "Train on 8544 samples, validate on 1101 samples\n",
      "Epoch 1/10\n",
      "8544/8544 [==============================] - 18s 2ms/step - loss: 1.5852 - acc: 0.2578 - val_loss: 1.5714 - val_acc: 0.2625\n",
      "Epoch 2/10\n",
      "8544/8544 [==============================] - 6s 735us/step - loss: 1.5606 - acc: 0.2820 - val_loss: 1.5632 - val_acc: 0.2679\n",
      "Epoch 3/10\n",
      "8544/8544 [==============================] - 6s 737us/step - loss: 1.5239 - acc: 0.3254 - val_loss: 1.5461 - val_acc: 0.3025\n",
      "Epoch 4/10\n",
      "8544/8544 [==============================] - 10s 1ms/step - loss: 1.4444 - acc: 0.3738 - val_loss: 1.5334 - val_acc: 0.3134\n",
      "Epoch 5/10\n",
      "8544/8544 [==============================] - 9s 1ms/step - loss: 1.3682 - acc: 0.3937 - val_loss: 1.5364 - val_acc: 0.3297\n",
      "Epoch 6/10\n",
      "8544/8544 [==============================] - 7s 832us/step - loss: 1.3070 - acc: 0.4283 - val_loss: 1.5345 - val_acc: 0.3342\n",
      "Epoch 7/10\n",
      "8544/8544 [==============================] - 8s 878us/step - loss: 1.2323 - acc: 0.4762 - val_loss: 1.6092 - val_acc: 0.3488\n",
      "Epoch 8/10\n",
      "8544/8544 [==============================] - 6s 748us/step - loss: 1.1657 - acc: 0.5090 - val_loss: 1.6173 - val_acc: 0.3579\n",
      "Epoch 9/10\n",
      "8544/8544 [==============================] - 7s 834us/step - loss: 1.0911 - acc: 0.5390 - val_loss: 1.6775 - val_acc: 0.3597\n",
      "Epoch 10/10\n",
      "8544/8544 [==============================] - 7s 772us/step - loss: 1.0208 - acc: 0.5763 - val_loss: 1.7353 - val_acc: 0.3488\n"
     ]
    }
   ],
   "source": [
    "# 6 - Train your model and find the best hyperparameters for your dev set\n",
    "#     you will be evaluated on the quality of your predictions on the test set\n",
    "\n",
    "# ADAPT CODE BELOW\n",
    "bs = 120\n",
    "n_epochs = 10\n",
    "\n",
    "x_train = array_train_sentences\n",
    "y_train = array_train_nb\n",
    "x_val = array_dev_sentences\n",
    "y_val = array_dev_nb\n",
    "\n",
    "history = model.fit(x_train, y_train, batch_size=bs, epochs=n_epochs, validation_data=(x_val, y_val))"
   ]
  },
  {
   "cell_type": "code",
   "execution_count": null,
   "metadata": {},
   "outputs": [],
   "source": [
    "# 7 - Generate your predictions on the test set using model.predict(x_test)\n",
    "#     https://keras.io/models/model/\n",
    "#     Log your predictions in a file (one line = one integer: 0,1,2,3,4)\n",
    "#     Attach the output file \"logreg_lstm_y_test_sst.txt\" to your deliverable.\n",
    "\n",
    "# TYPE CODE HERE\n",
    "print(model.predict(x_val))\n",
    "y_val"
   ]
  },
  {
   "cell_type": "markdown",
   "metadata": {},
   "source": [
    "## 4.3 -- innovate !"
   ]
  },
  {
   "cell_type": "code",
   "execution_count": null,
   "metadata": {},
   "outputs": [],
   "source": [
    "# 8 - Open question: find a model that is better on your dev set\n",
    "#     (e.g: use a 1D ConvNet, use a better classifier, pretrain your lookup tables ..)\n",
    "#     you will get point if the results on the test set are better: be careful of not overfitting your dev set too much..\n",
    "#     Attach the output file \"XXX_XXX_y_test_sst.txt\" to your deliverable.\n",
    "\n",
    "# TYPE CODE HERE\n"
   ]
  },
  {
   "cell_type": "code",
   "execution_count": null,
   "metadata": {},
   "outputs": [],
   "source": [
    "# 1 - Load train/dev/test of Stanford Sentiment TreeBank (SST)\n",
    "#     (https://nlp.stanford.edu/~socherr/EMNLP2013_RNTN.pdf)\n",
    "\"\"\"\n",
    "\n",
    "def compute_matrixes(sentences_list, w2v):\n",
    "    nb_sentences = len(sentences_list[1])\n",
    "    BoV_sent = -1*np.ones(d)\n",
    "    sentences_array = -1*np.ones((nb_sentences,d))\n",
    "    nb_array = -1*np.ones(nb_sentences)\n",
    "    unknown_words = []\n",
    "    for ind_sent in range(nb_sentences):\n",
    "        #for each sentence\n",
    "        nb_word = 0\n",
    "        for word in sentences_list[1][ind_sent]:\n",
    "            #for each word in the sentence\n",
    "            if word in w2v.keys():\n",
    "                BoV_sent += w2v[word]\n",
    "                nb_word += 1\n",
    "            else:\n",
    "                unknown_words.append(word)\n",
    "        sentences_array[ind_sent,:] = BoV_sent/nb_word\n",
    "        if len(sentences_list[0]) > ind_sent:\n",
    "            nb_array[ind_sent] = sentences_list[0][ind_sent]\n",
    "    return(sentences_array, nb_array)\n",
    "\n",
    "\n",
    "\n",
    "def find_parens(s):\n",
    "    toret = {}\n",
    "    pstack = []\n",
    "    nbtoret = {}\n",
    "    for i, c in enumerate(s):\n",
    "        if c == '(':\n",
    "            pstack.append(i)\n",
    "        elif c == ')':\n",
    "            if len(pstack) == 0:\n",
    "                raise IndexError(\"No matching closing parens at: \" + str(i))\n",
    "            ind = pstack.pop()\n",
    "            toret[ind] = i\n",
    "            nbtoret[ind] = int(s[ind+1])\n",
    "    if len(pstack) > 0:\n",
    "        raise IndexError(\"No matching opening parens at: \" + str(pstack.pop()))\n",
    "\n",
    "    return(toret, nbtoret)\n",
    "\n",
    "def load_Bov(fname, nmax):\n",
    "        Bov = []\n",
    "        with io.open(fname, encoding='utf-8') as f:\n",
    "            next(f)\n",
    "            for i, line in enumerate(f):\n",
    "                toret, nbtoret = find_parens(line)\n",
    "                wordtoret = {}\n",
    "                sent_to_nb = {}\n",
    "                for key in toret.keys():\n",
    "                    part_line = line[key+3:toret[key]]\n",
    "                    if part_line[0] == '(':\n",
    "                        #then there is more than one word\n",
    "                        part_line = part_line.split(' ')\n",
    "                        sent = []\n",
    "                        for word in part_line:\n",
    "                            if word[-1] == ')':\n",
    "                                #then we have a word : 'exemple)' and not a number '(2'\n",
    "                                word_without_parenth = word.split(')')[0]\n",
    "                                sent.append(word_without_parenth.lower())\n",
    "                        wordtoret[key] = sent\n",
    "                    else:\n",
    "                        #there is only one word\n",
    "                        wordtoret[key] = [part_line.lower()]\n",
    "                for key in toret.keys():\n",
    "                    sent_to_nb[key] = [nbtoret[key], wordtoret[key]]\n",
    "                Bov.append(sent_to_nb)\n",
    "                #if i == (nmax - 1):\n",
    "                #    break\n",
    "        print('Loaded %s pretrained word vectors' % (len(Bov)))\n",
    "        return(Bov)\n",
    "    \n",
    "train_BoV_file = os.path.join(PATH_TO_DATA, 'trees', 'train.txt')\n",
    "nmax = 10\n",
    "train_BoV = load_Bov(train_BoV_file, nmax)\n",
    "\"\"\""
   ]
  }
 ],
 "metadata": {
  "kernelspec": {
   "display_name": "Python 3",
   "language": "python",
   "name": "python3"
  },
  "language_info": {
   "codemirror_mode": {
    "name": "ipython",
    "version": 3
   },
   "file_extension": ".py",
   "mimetype": "text/x-python",
   "name": "python",
   "nbconvert_exporter": "python",
   "pygments_lexer": "ipython3",
   "version": "3.6.5"
  }
 },
 "nbformat": 4,
 "nbformat_minor": 1
}
